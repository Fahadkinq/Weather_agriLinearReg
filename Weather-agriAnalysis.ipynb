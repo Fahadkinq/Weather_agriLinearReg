{
 "cells": [
  {
   "cell_type": "code",
   "execution_count": 1,
   "metadata": {},
   "outputs": [
    {
     "name": "stderr",
     "output_type": "stream",
     "text": [
      "C:\\Users\\AKBAR\\Anaconda\\lib\\site-packages\\pandas\\compat\\_optional.py:138: UserWarning: Pandas requires version '2.7.0' or newer of 'numexpr' (version '2.6.9' currently installed).\n",
      "  warnings.warn(msg, UserWarning)\n"
     ]
    },
    {
     "data": {
      "text/html": [
       "        <script type=\"text/javascript\">\n",
       "        window.PlotlyConfig = {MathJaxConfig: 'local'};\n",
       "        if (window.MathJax && window.MathJax.Hub && window.MathJax.Hub.Config) {window.MathJax.Hub.Config({SVG: {font: \"STIX-Web\"}});}\n",
       "        if (typeof require !== 'undefined') {\n",
       "        require.undef(\"plotly\");\n",
       "        requirejs.config({\n",
       "            paths: {\n",
       "                'plotly': ['https://cdn.plot.ly/plotly-2.27.0.min']\n",
       "            }\n",
       "        });\n",
       "        require(['plotly'], function(Plotly) {\n",
       "            window._Plotly = Plotly;\n",
       "        });\n",
       "        }\n",
       "        </script>\n",
       "        "
      ]
     },
     "metadata": {},
     "output_type": "display_data"
    }
   ],
   "source": [
    "import numpy as np\n",
    "import pandas as pd\n",
    "import matplotlib.pyplot as plt\n",
    "import seaborn as sns\n",
    "import chart_studio.plotly as py\n",
    "import cufflinks as cf\n",
    "%matplotlib inline\n",
    "cf.go_offline()"
   ]
  },
  {
   "cell_type": "code",
   "execution_count": 2,
   "metadata": {},
   "outputs": [],
   "source": [
    "data=pd.read_csv('climate_change_impact_on_agriculture_2024.csv')"
   ]
  },
  {
   "cell_type": "code",
   "execution_count": 3,
   "metadata": {},
   "outputs": [
    {
     "data": {
      "text/html": [
       "<div>\n",
       "<style scoped>\n",
       "    .dataframe tbody tr th:only-of-type {\n",
       "        vertical-align: middle;\n",
       "    }\n",
       "\n",
       "    .dataframe tbody tr th {\n",
       "        vertical-align: top;\n",
       "    }\n",
       "\n",
       "    .dataframe thead th {\n",
       "        text-align: right;\n",
       "    }\n",
       "</style>\n",
       "<table border=\"1\" class=\"dataframe\">\n",
       "  <thead>\n",
       "    <tr style=\"text-align: right;\">\n",
       "      <th></th>\n",
       "      <th>Year</th>\n",
       "      <th>Country</th>\n",
       "      <th>Region</th>\n",
       "      <th>Crop_Type</th>\n",
       "      <th>Average_Temperature_C</th>\n",
       "      <th>Total_Precipitation_mm</th>\n",
       "      <th>CO2_Emissions_MT</th>\n",
       "      <th>Crop_Yield_MT_per_HA</th>\n",
       "      <th>Extreme_Weather_Events</th>\n",
       "      <th>Irrigation_Access_%</th>\n",
       "      <th>Pesticide_Use_KG_per_HA</th>\n",
       "      <th>Fertilizer_Use_KG_per_HA</th>\n",
       "      <th>Soil_Health_Index</th>\n",
       "      <th>Adaptation_Strategies</th>\n",
       "      <th>Economic_Impact_Million_USD</th>\n",
       "    </tr>\n",
       "  </thead>\n",
       "  <tbody>\n",
       "    <tr>\n",
       "      <th>0</th>\n",
       "      <td>2001</td>\n",
       "      <td>India</td>\n",
       "      <td>West Bengal</td>\n",
       "      <td>Corn</td>\n",
       "      <td>1.55</td>\n",
       "      <td>447.06</td>\n",
       "      <td>15.22</td>\n",
       "      <td>1.737</td>\n",
       "      <td>8</td>\n",
       "      <td>14.54</td>\n",
       "      <td>10.08</td>\n",
       "      <td>14.78</td>\n",
       "      <td>83.25</td>\n",
       "      <td>Water Management</td>\n",
       "      <td>808.13</td>\n",
       "    </tr>\n",
       "    <tr>\n",
       "      <th>1</th>\n",
       "      <td>2024</td>\n",
       "      <td>China</td>\n",
       "      <td>North</td>\n",
       "      <td>Corn</td>\n",
       "      <td>3.23</td>\n",
       "      <td>2913.57</td>\n",
       "      <td>29.82</td>\n",
       "      <td>1.737</td>\n",
       "      <td>8</td>\n",
       "      <td>11.05</td>\n",
       "      <td>33.06</td>\n",
       "      <td>23.25</td>\n",
       "      <td>54.02</td>\n",
       "      <td>Crop Rotation</td>\n",
       "      <td>616.22</td>\n",
       "    </tr>\n",
       "    <tr>\n",
       "      <th>2</th>\n",
       "      <td>2001</td>\n",
       "      <td>France</td>\n",
       "      <td>Ile-de-France</td>\n",
       "      <td>Wheat</td>\n",
       "      <td>21.11</td>\n",
       "      <td>1301.74</td>\n",
       "      <td>25.75</td>\n",
       "      <td>1.719</td>\n",
       "      <td>5</td>\n",
       "      <td>84.42</td>\n",
       "      <td>27.41</td>\n",
       "      <td>65.53</td>\n",
       "      <td>67.78</td>\n",
       "      <td>Water Management</td>\n",
       "      <td>796.96</td>\n",
       "    </tr>\n",
       "    <tr>\n",
       "      <th>3</th>\n",
       "      <td>2001</td>\n",
       "      <td>Canada</td>\n",
       "      <td>Prairies</td>\n",
       "      <td>Coffee</td>\n",
       "      <td>27.85</td>\n",
       "      <td>1154.36</td>\n",
       "      <td>13.91</td>\n",
       "      <td>3.890</td>\n",
       "      <td>5</td>\n",
       "      <td>94.06</td>\n",
       "      <td>14.38</td>\n",
       "      <td>87.58</td>\n",
       "      <td>91.39</td>\n",
       "      <td>No Adaptation</td>\n",
       "      <td>790.32</td>\n",
       "    </tr>\n",
       "    <tr>\n",
       "      <th>4</th>\n",
       "      <td>1998</td>\n",
       "      <td>India</td>\n",
       "      <td>Tamil Nadu</td>\n",
       "      <td>Sugarcane</td>\n",
       "      <td>2.19</td>\n",
       "      <td>1627.48</td>\n",
       "      <td>11.81</td>\n",
       "      <td>1.080</td>\n",
       "      <td>9</td>\n",
       "      <td>95.75</td>\n",
       "      <td>44.35</td>\n",
       "      <td>88.08</td>\n",
       "      <td>49.61</td>\n",
       "      <td>Crop Rotation</td>\n",
       "      <td>401.72</td>\n",
       "    </tr>\n",
       "  </tbody>\n",
       "</table>\n",
       "</div>"
      ],
      "text/plain": [
       "   Year Country         Region  Crop_Type  Average_Temperature_C  \\\n",
       "0  2001   India    West Bengal       Corn                   1.55   \n",
       "1  2024   China          North       Corn                   3.23   \n",
       "2  2001  France  Ile-de-France      Wheat                  21.11   \n",
       "3  2001  Canada       Prairies     Coffee                  27.85   \n",
       "4  1998   India     Tamil Nadu  Sugarcane                   2.19   \n",
       "\n",
       "   Total_Precipitation_mm  CO2_Emissions_MT  Crop_Yield_MT_per_HA  \\\n",
       "0                  447.06             15.22                 1.737   \n",
       "1                 2913.57             29.82                 1.737   \n",
       "2                 1301.74             25.75                 1.719   \n",
       "3                 1154.36             13.91                 3.890   \n",
       "4                 1627.48             11.81                 1.080   \n",
       "\n",
       "   Extreme_Weather_Events  Irrigation_Access_%  Pesticide_Use_KG_per_HA  \\\n",
       "0                       8                14.54                    10.08   \n",
       "1                       8                11.05                    33.06   \n",
       "2                       5                84.42                    27.41   \n",
       "3                       5                94.06                    14.38   \n",
       "4                       9                95.75                    44.35   \n",
       "\n",
       "   Fertilizer_Use_KG_per_HA  Soil_Health_Index Adaptation_Strategies  \\\n",
       "0                     14.78              83.25      Water Management   \n",
       "1                     23.25              54.02         Crop Rotation   \n",
       "2                     65.53              67.78      Water Management   \n",
       "3                     87.58              91.39         No Adaptation   \n",
       "4                     88.08              49.61         Crop Rotation   \n",
       "\n",
       "   Economic_Impact_Million_USD  \n",
       "0                       808.13  \n",
       "1                       616.22  \n",
       "2                       796.96  \n",
       "3                       790.32  \n",
       "4                       401.72  "
      ]
     },
     "execution_count": 3,
     "metadata": {},
     "output_type": "execute_result"
    }
   ],
   "source": [
    "data.head()"
   ]
  },
  {
   "cell_type": "code",
   "execution_count": 4,
   "metadata": {},
   "outputs": [
    {
     "name": "stdout",
     "output_type": "stream",
     "text": [
      "<class 'pandas.core.frame.DataFrame'>\n",
      "RangeIndex: 10000 entries, 0 to 9999\n",
      "Data columns (total 15 columns):\n",
      " #   Column                       Non-Null Count  Dtype  \n",
      "---  ------                       --------------  -----  \n",
      " 0   Year                         10000 non-null  int64  \n",
      " 1   Country                      10000 non-null  object \n",
      " 2   Region                       10000 non-null  object \n",
      " 3   Crop_Type                    10000 non-null  object \n",
      " 4   Average_Temperature_C        10000 non-null  float64\n",
      " 5   Total_Precipitation_mm       10000 non-null  float64\n",
      " 6   CO2_Emissions_MT             10000 non-null  float64\n",
      " 7   Crop_Yield_MT_per_HA         10000 non-null  float64\n",
      " 8   Extreme_Weather_Events       10000 non-null  int64  \n",
      " 9   Irrigation_Access_%          10000 non-null  float64\n",
      " 10  Pesticide_Use_KG_per_HA      10000 non-null  float64\n",
      " 11  Fertilizer_Use_KG_per_HA     10000 non-null  float64\n",
      " 12  Soil_Health_Index            10000 non-null  float64\n",
      " 13  Adaptation_Strategies        10000 non-null  object \n",
      " 14  Economic_Impact_Million_USD  10000 non-null  float64\n",
      "dtypes: float64(9), int64(2), object(4)\n",
      "memory usage: 1.1+ MB\n"
     ]
    }
   ],
   "source": [
    "data.info()"
   ]
  },
  {
   "cell_type": "code",
   "execution_count": 5,
   "metadata": {},
   "outputs": [
    {
     "data": {
      "text/plain": [
       "Year                           0\n",
       "Country                        0\n",
       "Region                         0\n",
       "Crop_Type                      0\n",
       "Average_Temperature_C          0\n",
       "Total_Precipitation_mm         0\n",
       "CO2_Emissions_MT               0\n",
       "Crop_Yield_MT_per_HA           0\n",
       "Extreme_Weather_Events         0\n",
       "Irrigation_Access_%            0\n",
       "Pesticide_Use_KG_per_HA        0\n",
       "Fertilizer_Use_KG_per_HA       0\n",
       "Soil_Health_Index              0\n",
       "Adaptation_Strategies          0\n",
       "Economic_Impact_Million_USD    0\n",
       "dtype: int64"
      ]
     },
     "execution_count": 5,
     "metadata": {},
     "output_type": "execute_result"
    }
   ],
   "source": [
    "data.isnull().sum() #no null columns"
   ]
  },
  {
   "cell_type": "code",
   "execution_count": 6,
   "metadata": {},
   "outputs": [
    {
     "data": {
      "text/plain": [
       "0"
      ]
     },
     "execution_count": 6,
     "metadata": {},
     "output_type": "execute_result"
    }
   ],
   "source": [
    "data.duplicated().sum() #no duplicated rows"
   ]
  },
  {
   "cell_type": "code",
   "execution_count": 7,
   "metadata": {},
   "outputs": [
    {
     "data": {
      "text/html": [
       "<div>\n",
       "<style scoped>\n",
       "    .dataframe tbody tr th:only-of-type {\n",
       "        vertical-align: middle;\n",
       "    }\n",
       "\n",
       "    .dataframe tbody tr th {\n",
       "        vertical-align: top;\n",
       "    }\n",
       "\n",
       "    .dataframe thead th {\n",
       "        text-align: right;\n",
       "    }\n",
       "</style>\n",
       "<table border=\"1\" class=\"dataframe\">\n",
       "  <thead>\n",
       "    <tr style=\"text-align: right;\">\n",
       "      <th></th>\n",
       "      <th>Year</th>\n",
       "      <th>Average_Temperature_C</th>\n",
       "      <th>Total_Precipitation_mm</th>\n",
       "      <th>CO2_Emissions_MT</th>\n",
       "      <th>Crop_Yield_MT_per_HA</th>\n",
       "      <th>Extreme_Weather_Events</th>\n",
       "      <th>Irrigation_Access_%</th>\n",
       "      <th>Pesticide_Use_KG_per_HA</th>\n",
       "      <th>Fertilizer_Use_KG_per_HA</th>\n",
       "      <th>Soil_Health_Index</th>\n",
       "      <th>Economic_Impact_Million_USD</th>\n",
       "    </tr>\n",
       "  </thead>\n",
       "  <tbody>\n",
       "    <tr>\n",
       "      <th>count</th>\n",
       "      <td>10000.000000</td>\n",
       "      <td>10000.000000</td>\n",
       "      <td>10000.000000</td>\n",
       "      <td>10000.000000</td>\n",
       "      <td>10000.000000</td>\n",
       "      <td>10000.000000</td>\n",
       "      <td>10000.000000</td>\n",
       "      <td>10000.000000</td>\n",
       "      <td>10000.000000</td>\n",
       "      <td>10000.000000</td>\n",
       "      <td>10000.000000</td>\n",
       "    </tr>\n",
       "    <tr>\n",
       "      <th>mean</th>\n",
       "      <td>2007.088700</td>\n",
       "      <td>15.241299</td>\n",
       "      <td>1611.663834</td>\n",
       "      <td>15.246608</td>\n",
       "      <td>2.240017</td>\n",
       "      <td>4.980900</td>\n",
       "      <td>55.248332</td>\n",
       "      <td>24.955735</td>\n",
       "      <td>49.973708</td>\n",
       "      <td>64.901278</td>\n",
       "      <td>674.269658</td>\n",
       "    </tr>\n",
       "    <tr>\n",
       "      <th>std</th>\n",
       "      <td>10.084245</td>\n",
       "      <td>11.466955</td>\n",
       "      <td>805.016815</td>\n",
       "      <td>8.589423</td>\n",
       "      <td>0.998342</td>\n",
       "      <td>3.165808</td>\n",
       "      <td>25.988305</td>\n",
       "      <td>14.490962</td>\n",
       "      <td>28.711027</td>\n",
       "      <td>20.195882</td>\n",
       "      <td>414.591431</td>\n",
       "    </tr>\n",
       "    <tr>\n",
       "      <th>min</th>\n",
       "      <td>1990.000000</td>\n",
       "      <td>-4.990000</td>\n",
       "      <td>200.150000</td>\n",
       "      <td>0.500000</td>\n",
       "      <td>0.450000</td>\n",
       "      <td>0.000000</td>\n",
       "      <td>10.010000</td>\n",
       "      <td>0.000000</td>\n",
       "      <td>0.010000</td>\n",
       "      <td>30.000000</td>\n",
       "      <td>47.840000</td>\n",
       "    </tr>\n",
       "    <tr>\n",
       "      <th>25%</th>\n",
       "      <td>1999.000000</td>\n",
       "      <td>5.430000</td>\n",
       "      <td>925.697500</td>\n",
       "      <td>7.760000</td>\n",
       "      <td>1.449000</td>\n",
       "      <td>2.000000</td>\n",
       "      <td>32.677500</td>\n",
       "      <td>12.527500</td>\n",
       "      <td>25.390000</td>\n",
       "      <td>47.235000</td>\n",
       "      <td>350.545000</td>\n",
       "    </tr>\n",
       "    <tr>\n",
       "      <th>50%</th>\n",
       "      <td>2007.000000</td>\n",
       "      <td>15.175000</td>\n",
       "      <td>1611.160000</td>\n",
       "      <td>15.200000</td>\n",
       "      <td>2.170000</td>\n",
       "      <td>5.000000</td>\n",
       "      <td>55.175000</td>\n",
       "      <td>24.930000</td>\n",
       "      <td>49.635000</td>\n",
       "      <td>64.650000</td>\n",
       "      <td>583.920000</td>\n",
       "    </tr>\n",
       "    <tr>\n",
       "      <th>75%</th>\n",
       "      <td>2016.000000</td>\n",
       "      <td>25.340000</td>\n",
       "      <td>2306.997500</td>\n",
       "      <td>22.820000</td>\n",
       "      <td>2.930000</td>\n",
       "      <td>8.000000</td>\n",
       "      <td>77.582500</td>\n",
       "      <td>37.470000</td>\n",
       "      <td>74.825000</td>\n",
       "      <td>82.472500</td>\n",
       "      <td>917.505000</td>\n",
       "    </tr>\n",
       "    <tr>\n",
       "      <th>max</th>\n",
       "      <td>2024.000000</td>\n",
       "      <td>35.000000</td>\n",
       "      <td>2999.670000</td>\n",
       "      <td>30.000000</td>\n",
       "      <td>5.000000</td>\n",
       "      <td>10.000000</td>\n",
       "      <td>99.990000</td>\n",
       "      <td>49.990000</td>\n",
       "      <td>99.990000</td>\n",
       "      <td>100.000000</td>\n",
       "      <td>2346.470000</td>\n",
       "    </tr>\n",
       "  </tbody>\n",
       "</table>\n",
       "</div>"
      ],
      "text/plain": [
       "               Year  Average_Temperature_C  Total_Precipitation_mm  \\\n",
       "count  10000.000000           10000.000000            10000.000000   \n",
       "mean    2007.088700              15.241299             1611.663834   \n",
       "std       10.084245              11.466955              805.016815   \n",
       "min     1990.000000              -4.990000              200.150000   \n",
       "25%     1999.000000               5.430000              925.697500   \n",
       "50%     2007.000000              15.175000             1611.160000   \n",
       "75%     2016.000000              25.340000             2306.997500   \n",
       "max     2024.000000              35.000000             2999.670000   \n",
       "\n",
       "       CO2_Emissions_MT  Crop_Yield_MT_per_HA  Extreme_Weather_Events  \\\n",
       "count      10000.000000          10000.000000            10000.000000   \n",
       "mean          15.246608              2.240017                4.980900   \n",
       "std            8.589423              0.998342                3.165808   \n",
       "min            0.500000              0.450000                0.000000   \n",
       "25%            7.760000              1.449000                2.000000   \n",
       "50%           15.200000              2.170000                5.000000   \n",
       "75%           22.820000              2.930000                8.000000   \n",
       "max           30.000000              5.000000               10.000000   \n",
       "\n",
       "       Irrigation_Access_%  Pesticide_Use_KG_per_HA  Fertilizer_Use_KG_per_HA  \\\n",
       "count         10000.000000             10000.000000              10000.000000   \n",
       "mean             55.248332                24.955735                 49.973708   \n",
       "std              25.988305                14.490962                 28.711027   \n",
       "min              10.010000                 0.000000                  0.010000   \n",
       "25%              32.677500                12.527500                 25.390000   \n",
       "50%              55.175000                24.930000                 49.635000   \n",
       "75%              77.582500                37.470000                 74.825000   \n",
       "max              99.990000                49.990000                 99.990000   \n",
       "\n",
       "       Soil_Health_Index  Economic_Impact_Million_USD  \n",
       "count       10000.000000                 10000.000000  \n",
       "mean           64.901278                   674.269658  \n",
       "std            20.195882                   414.591431  \n",
       "min            30.000000                    47.840000  \n",
       "25%            47.235000                   350.545000  \n",
       "50%            64.650000                   583.920000  \n",
       "75%            82.472500                   917.505000  \n",
       "max           100.000000                  2346.470000  "
      ]
     },
     "execution_count": 7,
     "metadata": {},
     "output_type": "execute_result"
    }
   ],
   "source": [
    "data.describe()"
   ]
  },
  {
   "cell_type": "code",
   "execution_count": 8,
   "metadata": {},
   "outputs": [
    {
     "data": {
      "text/plain": [
       "Wheat         1047\n",
       "Cotton        1044\n",
       "Vegetables    1036\n",
       "Corn          1022\n",
       "Rice          1022\n",
       "Sugarcane      995\n",
       "Fruits         979\n",
       "Soybeans       958\n",
       "Barley         952\n",
       "Coffee         945\n",
       "Name: Crop_Type, dtype: int64"
      ]
     },
     "execution_count": 8,
     "metadata": {},
     "output_type": "execute_result"
    }
   ],
   "source": [
    "data['Crop_Type'].value_counts()"
   ]
  },
  {
   "cell_type": "code",
   "execution_count": 9,
   "metadata": {},
   "outputs": [
    {
     "data": {
      "text/plain": [
       "Water Management           2049\n",
       "No Adaptation              2024\n",
       "Drought-resistant Crops    1995\n",
       "Organic Farming            1975\n",
       "Crop Rotation              1957\n",
       "Name: Adaptation_Strategies, dtype: int64"
      ]
     },
     "execution_count": 9,
     "metadata": {},
     "output_type": "execute_result"
    }
   ],
   "source": [
    "data['Adaptation_Strategies'].value_counts()"
   ]
  },
  {
   "cell_type": "code",
   "execution_count": 11,
   "metadata": {},
   "outputs": [
    {
     "data": {
      "text/plain": [
       "Index(['Year', 'Country', 'Region', 'Crop_Type', 'Average_Temperature_C',\n",
       "       'Total_Precipitation_mm', 'CO2_Emissions_MT', 'Crop_Yield_MT_per_HA',\n",
       "       'Extreme_Weather_Events', 'Irrigation_Access_%',\n",
       "       'Pesticide_Use_KG_per_HA', 'Fertilizer_Use_KG_per_HA',\n",
       "       'Soil_Health_Index', 'Adaptation_Strategies',\n",
       "       'Economic_Impact_Million_USD'],\n",
       "      dtype='object')"
      ]
     },
     "execution_count": 11,
     "metadata": {},
     "output_type": "execute_result"
    }
   ],
   "source": [
    "data.columns"
   ]
  },
  {
   "cell_type": "code",
   "execution_count": 25,
   "metadata": {},
   "outputs": [
    {
     "data": {
      "text/plain": [
       "<seaborn.axisgrid.JointGrid at 0x1d1955f8>"
      ]
     },
     "execution_count": 25,
     "metadata": {},
     "output_type": "execute_result"
    },
    {
     "data": {
      "image/png": "[encoded data removed]",
      "text/plain": [
       "<Figure size 432x432 with 3 Axes>"
      ]
     },
     "metadata": {
      "needs_background": "light"
     },
     "output_type": "display_data"
    }
   ],
   "source": [
    "sns.jointplot(x='Crop_Yield_MT_per_HA',y='Economic_Impact_Million_USD',data=data,kind='hex')"
   ]
  },
  {
   "cell_type": "code",
   "execution_count": 18,
   "metadata": {},
   "outputs": [
    {
     "data": {
      "text/plain": [
       "<seaborn.axisgrid.JointGrid at 0x1bae7f98>"
      ]
     },
     "execution_count": 18,
     "metadata": {},
     "output_type": "execute_result"
    },
    {
     "data": {
      "image/png": "[encoded data removed]",
      "text/plain": [
       "<Figure size 432x432 with 3 Axes>"
      ]
     },
     "metadata": {
      "needs_background": "light"
     },
     "output_type": "display_data"
    }
   ],
   "source": [
    "sns.jointplot(x='Total_Precipitation_mm',y='Economic_Impact_Million_USD',data=data,kind='kde',color='red')"
   ]
  },
  {
   "cell_type": "code",
   "execution_count": 22,
   "metadata": {},
   "outputs": [
    {
     "data": {
      "text/plain": [
       "<seaborn.axisgrid.JointGrid at 0x1cf5ce48>"
      ]
     },
     "execution_count": 22,
     "metadata": {},
     "output_type": "execute_result"
    },
    {
     "data": {
      "image/png": "[encoded data removed]",
      "text/plain": [
       "<Figure size 432x432 with 3 Axes>"
      ]
     },
     "metadata": {
      "needs_background": "light"
     },
     "output_type": "display_data"
    }
   ],
   "source": [
    "sns.jointplot(x='Extreme_Weather_Events',y='Economic_Impact_Million_USD',data=data,kind='kde')"
   ]
  },
  {
   "cell_type": "code",
   "execution_count": null,
   "metadata": {},
   "outputs": [],
   "source": [
    "# Now we have derived various relationships between different columns "
   ]
  },
  {
   "cell_type": "code",
   "execution_count": 26,
   "metadata": {},
   "outputs": [],
   "source": [
    "from sklearn.model_selection import train_test_split"
   ]
  },
  {
   "cell_type": "code",
   "execution_count": 28,
   "metadata": {},
   "outputs": [],
   "source": [
    "X=data[['Average_Temperature_C',\n",
    "       'Total_Precipitation_mm', 'CO2_Emissions_MT', 'Crop_Yield_MT_per_HA',\n",
    "       'Extreme_Weather_Events', 'Irrigation_Access_%',\n",
    "       'Pesticide_Use_KG_per_HA', 'Fertilizer_Use_KG_per_HA',\n",
    "       'Soil_Health_Index']]\n",
    "y=data['Economic_Impact_Million_USD']\n",
    "\n",
    "X_train, X_test, y_train, y_test = train_test_split(X, y, test_size=0.3, random_state=101)"
   ]
  },
  {
   "cell_type": "code",
   "execution_count": 29,
   "metadata": {},
   "outputs": [],
   "source": [
    "from sklearn.linear_model import LinearRegression"
   ]
  },
  {
   "cell_type": "code",
   "execution_count": 30,
   "metadata": {},
   "outputs": [],
   "source": [
    "lm = LinearRegression()"
   ]
  },
  {
   "cell_type": "code",
   "execution_count": 32,
   "metadata": {},
   "outputs": [
    {
     "data": {
      "text/plain": [
       "LinearRegression(copy_X=True, fit_intercept=True, n_jobs=None,\n",
       "         normalize=False)"
      ]
     },
     "execution_count": 32,
     "metadata": {},
     "output_type": "execute_result"
    }
   ],
   "source": [
    "lm.fit(X_train,y_train)"
   ]
  },
  {
   "cell_type": "code",
   "execution_count": 33,
   "metadata": {},
   "outputs": [],
   "source": [
    "predictions=lm.predict(X_test)"
   ]
  },
  {
   "cell_type": "code",
   "execution_count": 36,
   "metadata": {},
   "outputs": [
    {
     "data": {
      "text/plain": [
       "<matplotlib.collections.PathCollection at 0x1f5f7cc0>"
      ]
     },
     "execution_count": 36,
     "metadata": {},
     "output_type": "execute_result"
    },
    {
     "data": {
      "image/png": "[encoded data removed]",
      "text/plain": [
       "<Figure size 432x288 with 1 Axes>"
      ]
     },
     "metadata": {
      "needs_background": "light"
     },
     "output_type": "display_data"
    }
   ],
   "source": [
    "plt.scatter(y_test,predictions)"
   ]
  },
  {
   "cell_type": "code",
   "execution_count": 37,
   "metadata": {},
   "outputs": [],
   "source": [
    "from sklearn import metrics"
   ]
  },
  {
   "cell_type": "code",
   "execution_count": 38,
   "metadata": {},
   "outputs": [
    {
     "data": {
      "text/plain": [
       "225.09307626195974"
      ]
     },
     "execution_count": 38,
     "metadata": {},
     "output_type": "execute_result"
    }
   ],
   "source": [
    "metrics.mean_absolute_error(y_test,predictions)"
   ]
  },
  {
   "cell_type": "code",
   "execution_count": 39,
   "metadata": {},
   "outputs": [
    {
     "data": {
      "text/plain": [
       "81281.948449688"
      ]
     },
     "execution_count": 39,
     "metadata": {},
     "output_type": "execute_result"
    }
   ],
   "source": [
    "metrics.mean_squared_error(y_test,predictions)"
   ]
  },
  {
   "cell_type": "code",
   "execution_count": 40,
   "metadata": {},
   "outputs": [
    {
     "data": {
      "text/plain": [
       "array([ 1.29507051e-01,  5.93573674e-04,  4.88311215e-01,  2.99681092e+02,\n",
       "       -3.49430249e-01, -1.16588733e-01, -2.96388295e-01,  1.63248128e-01,\n",
       "        8.85441889e-02])"
      ]
     },
     "execution_count": 40,
     "metadata": {},
     "output_type": "execute_result"
    }
   ],
   "source": [
    "lm.coef_"
   ]
  },
  {
   "cell_type": "code",
   "execution_count": 41,
   "metadata": {},
   "outputs": [
    {
     "data": {
      "text/html": [
       "<div>\n",
       "<style scoped>\n",
       "    .dataframe tbody tr th:only-of-type {\n",
       "        vertical-align: middle;\n",
       "    }\n",
       "\n",
       "    .dataframe tbody tr th {\n",
       "        vertical-align: top;\n",
       "    }\n",
       "\n",
       "    .dataframe thead th {\n",
       "        text-align: right;\n",
       "    }\n",
       "</style>\n",
       "<table border=\"1\" class=\"dataframe\">\n",
       "  <thead>\n",
       "    <tr style=\"text-align: right;\">\n",
       "      <th></th>\n",
       "      <th>Coefficient</th>\n",
       "    </tr>\n",
       "  </thead>\n",
       "  <tbody>\n",
       "    <tr>\n",
       "      <th>Average_Temperature_C</th>\n",
       "      <td>0.129507</td>\n",
       "    </tr>\n",
       "    <tr>\n",
       "      <th>Total_Precipitation_mm</th>\n",
       "      <td>0.000594</td>\n",
       "    </tr>\n",
       "    <tr>\n",
       "      <th>CO2_Emissions_MT</th>\n",
       "      <td>0.488311</td>\n",
       "    </tr>\n",
       "    <tr>\n",
       "      <th>Crop_Yield_MT_per_HA</th>\n",
       "      <td>299.681092</td>\n",
       "    </tr>\n",
       "    <tr>\n",
       "      <th>Extreme_Weather_Events</th>\n",
       "      <td>-0.349430</td>\n",
       "    </tr>\n",
       "    <tr>\n",
       "      <th>Irrigation_Access_%</th>\n",
       "      <td>-0.116589</td>\n",
       "    </tr>\n",
       "    <tr>\n",
       "      <th>Pesticide_Use_KG_per_HA</th>\n",
       "      <td>-0.296388</td>\n",
       "    </tr>\n",
       "    <tr>\n",
       "      <th>Fertilizer_Use_KG_per_HA</th>\n",
       "      <td>0.163248</td>\n",
       "    </tr>\n",
       "    <tr>\n",
       "      <th>Soil_Health_Index</th>\n",
       "      <td>0.088544</td>\n",
       "    </tr>\n",
       "  </tbody>\n",
       "</table>\n",
       "</div>"
      ],
      "text/plain": [
       "                          Coefficient\n",
       "Average_Temperature_C        0.129507\n",
       "Total_Precipitation_mm       0.000594\n",
       "CO2_Emissions_MT             0.488311\n",
       "Crop_Yield_MT_per_HA       299.681092\n",
       "Extreme_Weather_Events      -0.349430\n",
       "Irrigation_Access_%         -0.116589\n",
       "Pesticide_Use_KG_per_HA     -0.296388\n",
       "Fertilizer_Use_KG_per_HA     0.163248\n",
       "Soil_Health_Index            0.088544"
      ]
     },
     "execution_count": 41,
     "metadata": {},
     "output_type": "execute_result"
    }
   ],
   "source": [
    "coeff_df = pd.DataFrame(lm.coef_,X.columns,columns=['Coefficient'])\n",
    "coeff_df"
   ]
  },
  {
   "cell_type": "code",
   "execution_count": 42,
   "metadata": {},
   "outputs": [
    {
     "data": {
      "text/plain": [
       "-6.087458914817034"
      ]
     },
     "execution_count": 42,
     "metadata": {},
     "output_type": "execute_result"
    }
   ],
   "source": [
    "lm.intercept_"
   ]
  },
  {
   "cell_type": "code",
   "execution_count": null,
   "metadata": {},
   "outputs": [],
   "source": []
  },
  {
   "cell_type": "code",
   "execution_count": null,
   "metadata": {},
   "outputs": [],
   "source": []
  }
 ],
 "metadata": {
  "kernelspec": {
   "display_name": "Python 3",
   "language": "python",
   "name": "python3"
  },
  "language_info": {
   "codemirror_mode": {
    "name": "ipython",
    "version": 3
   },
   "file_extension": ".py",
   "mimetype": "text/x-python",
   "name": "python",
   "nbconvert_exporter": "python",
   "pygments_lexer": "ipython3",
   "version": "3.7.3"
  }
 },
 "nbformat": 4,
 "nbformat_minor": 2
}
